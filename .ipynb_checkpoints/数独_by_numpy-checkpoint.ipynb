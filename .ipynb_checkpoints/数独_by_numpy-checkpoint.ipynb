{
 "cells": [
  {
   "cell_type": "code",
   "execution_count": 1,
   "metadata": {},
   "outputs": [],
   "source": [
    "import numpy as np"
   ]
  },
  {
   "cell_type": "code",
   "execution_count": 2,
   "metadata": {},
   "outputs": [],
   "source": [
    "import sys  # 导入sys模块\n",
    "sys.setrecursionlimit(3000)"
   ]
  },
  {
   "cell_type": "code",
   "execution_count": 3,
   "metadata": {},
   "outputs": [],
   "source": [
    "def creat_new_table():\n",
    "    # 每一纬度依次为 num_stage,group，row，col, 可能、不可能、确定 依次为 1，0，10\n",
    "    table=np.ones((9,9,9,9)).astype(np.int32)\n",
    "    # 对与grop 进行定义\n",
    "    group_list=[\n",
    "        1,1,1,2,2,2,3,3,3,\n",
    "        1,1,1,2,2,2,3,3,3,\n",
    "        1,1,1,2,2,2,3,3,3,\n",
    "        4,4,4,5,5,5,6,6,6,\n",
    "        4,4,4,5,5,5,6,6,6,\n",
    "        4,4,4,5,5,5,6,6,6,\n",
    "        7,7,7,8,8,8,9,9,9,\n",
    "        7,7,7,8,8,8,9,9,9,  \n",
    "        7,7,7,8,8,8,9,9,9,  \n",
    "    ]\n",
    "\n",
    "    group_np=np.array(group_list).reshape(9,9)\n",
    "\n",
    "    #每一个num_stage\n",
    "    for num_stage in range(0,9):\n",
    "\n",
    "        #每一个group\n",
    "        for group in range(0,9):\n",
    "\n",
    "            table[num_stage,group]=np.where(group_np!=group+1,0,table[num_stage,group])\n",
    "            \n",
    "    return table"
   ]
  },
  {
   "cell_type": "markdown",
   "metadata": {},
   "source": [
    "# 录入棋盘数据"
   ]
  },
  {
   "cell_type": "code",
   "execution_count": 4,
   "metadata": {},
   "outputs": [],
   "source": [
    "# 将信息录入table\n",
    "def input_table(table,start_np):\n",
    "    #每一group\n",
    "    for group in range(0,9):\n",
    "        #每一 num_list\n",
    "        for num_stage in range(0,9):\n",
    "            table[num_stage,group]=np.where(\n",
    "                (start_np==num_stage+1)&(table[num_stage,group]!=0),\n",
    "                10,\n",
    "                table[num_stage,group]\n",
    "            )\n",
    "    return table"
   ]
  },
  {
   "cell_type": "markdown",
   "metadata": {},
   "source": [
    "# 检查数据"
   ]
  },
  {
   "cell_type": "markdown",
   "metadata": {},
   "source": [
    "### 根据已经确定的num_stage 进行更新"
   ]
  },
  {
   "cell_type": "code",
   "execution_count": 5,
   "metadata": {},
   "outputs": [],
   "source": [
    "# 更新每个确定了的相关num_stage,group,row,col 的数据\n",
    "def refresh_table(table,index):\n",
    "    num_stage,group,row,col=index\n",
    "    \n",
    "        \n",
    "    table[:,:,row,col]=0\n",
    "    table[num_stage,group,:,:]=0\n",
    "    \n",
    "    table[num_stage,:,row,:]=0\n",
    "    table[num_stage,:,:,col]=0\n",
    "\n",
    "    return table\n",
    "\n",
    "def input_the_num(table,index):\n",
    "    num_stage,group,row,col=index\n",
    "#     print('将%s行%s列，列更新为%d'%(row,col,num_stage+1))\n",
    "    table[num_stage,group,row,col]=10\n",
    "    return table\n",
    "\n",
    "def input_the_num_list(table,num_stage,group,row,col):\n",
    "    \n",
    "#     print('将%s行%s列，列更新为%d'%(row,col,num_stage+1))\n",
    "    table[num_stage,group,row,col]=10\n",
    "    return table"
   ]
  },
  {
   "cell_type": "code",
   "execution_count": 6,
   "metadata": {},
   "outputs": [],
   "source": [
    "# 更新table\n",
    "\n",
    "def check_table(table):\n",
    "    # 如果一个blog只有1种num_stage 就替换为10\n",
    "    if 1 in np.sum(table,axis=(0,1)):\n",
    "        the_index=np.argwhere(np.sum(table,axis=(0,1))==1)\n",
    "        for sum_index in the_index:\n",
    "            row,col=sum_index\n",
    "            num_stage,group=np.argwhere(table[:,:,row,col]==1)[0]            \n",
    "            table=input_the_num_list(table,num_stage,group,row,col)     \n",
    "\n",
    "    # 把已经确立num_stage的blog，其他可能性清零\n",
    "    the_index=np.argwhere(table==10)\n",
    "   \n",
    "    for index in the_index:\n",
    "        table=refresh_table(table,index)\n",
    "    for index in the_index:\n",
    "        table=input_the_num(table,index)\n",
    "    return table"
   ]
  },
  {
   "cell_type": "code",
   "execution_count": 7,
   "metadata": {},
   "outputs": [],
   "source": [
    "# 将已经确定数的识别码改为10，其他num_stage改为0\n",
    "\n",
    "def check_1to0_num(table):\n",
    "    tag_10=np.sum(table,axis=(0,1))>10\n",
    "    tag_1=np.sum(table,axis=(0,1))==1\n",
    "    \n",
    "    # table里已经确定了位置的数字，没有其他num——stage\n",
    "    while any([tag_1.any(),tag_10.any()]):\n",
    "        table=check_table(table)\n",
    "    return table\n",
    "        "
   ]
  },
  {
   "cell_type": "markdown",
   "metadata": {},
   "source": [
    "### 展示计算结果"
   ]
  },
  {
   "cell_type": "code",
   "execution_count": 8,
   "metadata": {},
   "outputs": [],
   "source": [
    "def get_bignum(table,index):\n",
    "    row,col=index\n",
    "\n",
    "    num_list=np.sum(table[:,:,row,col],axis=1)\n",
    "\n",
    "    numstage_list=np.argwhere(num_list==1)\n",
    "    numstage_list=(numstage_list+1)[:,0].tolist()\n",
    "    \n",
    "    big_num=0\n",
    "    plush_num=1\n",
    "    i=len(numstage_list)-1\n",
    "    while i>-1:\n",
    "        \n",
    "        big_num+=numstage_list[i]*plush_num\n",
    "        plush_num*=10\n",
    "        i-=1\n",
    "    \n",
    "    return big_num\n",
    "    "
   ]
  },
  {
   "cell_type": "code",
   "execution_count": 9,
   "metadata": {},
   "outputs": [],
   "source": [
    "# show 解数进展\n",
    "def show_table(table):\n",
    "    the_index=np.argwhere(table==10)    \n",
    "    show_table=np.zeros((9,9)).astype(np.int32)\n",
    "    for index in the_index:\n",
    "        num_stage,group,row,col=index\n",
    "        show_table[row,col]=num_stage+1\n",
    "    #未确定num—stage的数\n",
    "    table_sum=np.sum(table,axis=(0,1))\n",
    "    the_index=np.argwhere(table_sum!=10)\n",
    "    for index in the_index:\n",
    "        big_num=get_bignum(table,index)\n",
    "        row,col=index\n",
    "        show_table[row,col]=big_num\n",
    "        \n",
    "        \n",
    "    \n",
    "\n",
    "        \n",
    "        \n",
    "    return show_table\n"
   ]
  },
  {
   "cell_type": "markdown",
   "metadata": {},
   "source": [
    "### 判断计算结果"
   ]
  },
  {
   "cell_type": "code",
   "execution_count": 10,
   "metadata": {},
   "outputs": [],
   "source": [
    "# 判断是否求出正确解\n",
    "def check_right_answer(table):\n",
    "    if (np.sum(table,axis=(0,1))==10).all():\n",
    "        print('congratulation！！！')\n",
    "        print('the right answer')\n",
    "        print(show_table(table))\n",
    "    else:\n",
    "        print('Sorry !!!')\n",
    "        print('not right')\n",
    "        print(show_table(table))\n",
    "        \n"
   ]
  },
  {
   "cell_type": "code",
   "execution_count": 11,
   "metadata": {},
   "outputs": [],
   "source": [
    "# 判断是否求出正确解，用于递归\n",
    "def recheck_answer(table):\n",
    "    # 校核是否满足要求\n",
    "    # 每个位置是否只有一个确定\n",
    "    if all([(np.sum(table,axis=(0,1))==10).all(),\n",
    "           (np.sum(table,axis=(1,2))==10).all(),\n",
    "           (np.sum(table,axis=(1,3))==10).all(),\n",
    "           (np.sum(table,axis=(2,3))==10).all()]):\n",
    "        print('yes ,fond it!!!')\n",
    "        return True\n",
    "    else:\n",
    "        return False\n",
    "        \n",
    "  \n",
    "    \n"
   ]
  },
  {
   "cell_type": "markdown",
   "metadata": {},
   "source": [
    "# 测试"
   ]
  },
  {
   "cell_type": "markdown",
   "metadata": {},
   "source": [
    "### 录入初始信息"
   ]
  },
  {
   "cell_type": "code",
   "execution_count": 12,
   "metadata": {},
   "outputs": [],
   "source": [
    "table=creat_new_table()"
   ]
  },
  {
   "cell_type": "code",
   "execution_count": 13,
   "metadata": {},
   "outputs": [],
   "source": [
    "# 开局信息\n",
    "start_list=[\n",
    "    0,8,0,0,0,7,0,0,6,\n",
    "    0,3,9,2,0,8,0,0,0,\n",
    "    4,0,0,1,3,0,0,0,0,\n",
    "    9,0,5,0,0,0,0,0,4,\n",
    "    0,0,3,0,0,0,0,0,0,\n",
    "    6,2,0,0,0,5,0,0,0,\n",
    "    8,0,1,0,0,6,2,0,0,\n",
    "    0,0,0,5,0,0,0,0,0,\n",
    "    0,6,0,3,0,0,8,0,0\n",
    "]\n",
    "#转为 numpy格式\n",
    "start_np=np.array(start_list).reshape((9,9))"
   ]
  },
  {
   "cell_type": "code",
   "execution_count": 14,
   "metadata": {},
   "outputs": [],
   "source": [
    "# 信息更新进table\n",
    "table=input_table(table,start_np)"
   ]
  },
  {
   "cell_type": "code",
   "execution_count": 15,
   "metadata": {},
   "outputs": [
    {
     "ename": "KeyboardInterrupt",
     "evalue": "",
     "output_type": "error",
     "traceback": [
      "\u001b[0;31m---------------------------------------------------------------------------\u001b[0m",
      "\u001b[0;31mKeyboardInterrupt\u001b[0m                         Traceback (most recent call last)",
      "\u001b[0;32m<ipython-input-15-459a57bdd35d>\u001b[0m in \u001b[0;36m<module>\u001b[0;34m\u001b[0m\n\u001b[0;32m----> 1\u001b[0;31m \u001b[0mtable\u001b[0m\u001b[0;34m=\u001b[0m\u001b[0mcheck_1to0_num\u001b[0m\u001b[0;34m(\u001b[0m\u001b[0mtable\u001b[0m\u001b[0;34m)\u001b[0m\u001b[0;34m\u001b[0m\u001b[0;34m\u001b[0m\u001b[0m\n\u001b[0m",
      "\u001b[0;32m<ipython-input-7-d6fd5e41e2c5>\u001b[0m in \u001b[0;36mcheck_1to0_num\u001b[0;34m(table)\u001b[0m\n\u001b[1;32m      7\u001b[0m     \u001b[0;31m# table里已经确定了位置的数字，没有其他num——stage\u001b[0m\u001b[0;34m\u001b[0m\u001b[0;34m\u001b[0m\u001b[0;34m\u001b[0m\u001b[0m\n\u001b[1;32m      8\u001b[0m     \u001b[0;32mwhile\u001b[0m \u001b[0many\u001b[0m\u001b[0;34m(\u001b[0m\u001b[0;34m[\u001b[0m\u001b[0mtag_1\u001b[0m\u001b[0;34m.\u001b[0m\u001b[0many\u001b[0m\u001b[0;34m(\u001b[0m\u001b[0;34m)\u001b[0m\u001b[0;34m,\u001b[0m\u001b[0mtag_10\u001b[0m\u001b[0;34m.\u001b[0m\u001b[0many\u001b[0m\u001b[0;34m(\u001b[0m\u001b[0;34m)\u001b[0m\u001b[0;34m]\u001b[0m\u001b[0;34m)\u001b[0m\u001b[0;34m:\u001b[0m\u001b[0;34m\u001b[0m\u001b[0;34m\u001b[0m\u001b[0m\n\u001b[0;32m----> 9\u001b[0;31m         \u001b[0mtable\u001b[0m\u001b[0;34m=\u001b[0m\u001b[0mcheck_table\u001b[0m\u001b[0;34m(\u001b[0m\u001b[0mtable\u001b[0m\u001b[0;34m)\u001b[0m\u001b[0;34m\u001b[0m\u001b[0;34m\u001b[0m\u001b[0m\n\u001b[0m\u001b[1;32m     10\u001b[0m     \u001b[0;32mreturn\u001b[0m \u001b[0mtable\u001b[0m\u001b[0;34m\u001b[0m\u001b[0;34m\u001b[0m\u001b[0m\n\u001b[1;32m     11\u001b[0m \u001b[0;34m\u001b[0m\u001b[0m\n",
      "\u001b[0;32m<ipython-input-6-f0bae6b56528>\u001b[0m in \u001b[0;36mcheck_table\u001b[0;34m(table)\u001b[0m\n\u001b[1;32m     16\u001b[0m         \u001b[0mtable\u001b[0m\u001b[0;34m=\u001b[0m\u001b[0mrefresh_table\u001b[0m\u001b[0;34m(\u001b[0m\u001b[0mtable\u001b[0m\u001b[0;34m,\u001b[0m\u001b[0mindex\u001b[0m\u001b[0;34m)\u001b[0m\u001b[0;34m\u001b[0m\u001b[0;34m\u001b[0m\u001b[0m\n\u001b[1;32m     17\u001b[0m     \u001b[0;32mfor\u001b[0m \u001b[0mindex\u001b[0m \u001b[0;32min\u001b[0m \u001b[0mthe_index\u001b[0m\u001b[0;34m:\u001b[0m\u001b[0;34m\u001b[0m\u001b[0;34m\u001b[0m\u001b[0m\n\u001b[0;32m---> 18\u001b[0;31m         \u001b[0mtable\u001b[0m\u001b[0;34m=\u001b[0m\u001b[0minput_the_num\u001b[0m\u001b[0;34m(\u001b[0m\u001b[0mtable\u001b[0m\u001b[0;34m,\u001b[0m\u001b[0mindex\u001b[0m\u001b[0;34m)\u001b[0m\u001b[0;34m\u001b[0m\u001b[0;34m\u001b[0m\u001b[0m\n\u001b[0m\u001b[1;32m     19\u001b[0m     \u001b[0;32mreturn\u001b[0m \u001b[0mtable\u001b[0m\u001b[0;34m\u001b[0m\u001b[0;34m\u001b[0m\u001b[0m\n",
      "\u001b[0;32m<ipython-input-5-f61a91cccab1>\u001b[0m in \u001b[0;36minput_the_num\u001b[0;34m(table, index)\u001b[0m\n\u001b[1;32m     13\u001b[0m \u001b[0;34m\u001b[0m\u001b[0m\n\u001b[1;32m     14\u001b[0m \u001b[0;32mdef\u001b[0m \u001b[0minput_the_num\u001b[0m\u001b[0;34m(\u001b[0m\u001b[0mtable\u001b[0m\u001b[0;34m,\u001b[0m\u001b[0mindex\u001b[0m\u001b[0;34m)\u001b[0m\u001b[0;34m:\u001b[0m\u001b[0;34m\u001b[0m\u001b[0;34m\u001b[0m\u001b[0m\n\u001b[0;32m---> 15\u001b[0;31m     \u001b[0mnum_stage\u001b[0m\u001b[0;34m,\u001b[0m\u001b[0mgroup\u001b[0m\u001b[0;34m,\u001b[0m\u001b[0mrow\u001b[0m\u001b[0;34m,\u001b[0m\u001b[0mcol\u001b[0m\u001b[0;34m=\u001b[0m\u001b[0mindex\u001b[0m\u001b[0;34m\u001b[0m\u001b[0;34m\u001b[0m\u001b[0m\n\u001b[0m\u001b[1;32m     16\u001b[0m \u001b[0;31m#     print('将%s行%s列，列更新为%d'%(row,col,num_stage+1))\u001b[0m\u001b[0;34m\u001b[0m\u001b[0;34m\u001b[0m\u001b[0;34m\u001b[0m\u001b[0m\n\u001b[1;32m     17\u001b[0m     \u001b[0mtable\u001b[0m\u001b[0;34m[\u001b[0m\u001b[0mnum_stage\u001b[0m\u001b[0;34m,\u001b[0m\u001b[0mgroup\u001b[0m\u001b[0;34m,\u001b[0m\u001b[0mrow\u001b[0m\u001b[0;34m,\u001b[0m\u001b[0mcol\u001b[0m\u001b[0;34m]\u001b[0m\u001b[0;34m=\u001b[0m\u001b[0;36m10\u001b[0m\u001b[0;34m\u001b[0m\u001b[0;34m\u001b[0m\u001b[0m\n",
      "\u001b[0;31mKeyboardInterrupt\u001b[0m: "
     ]
    }
   ],
   "source": [
    "table=check_1to0_num(table)"
   ]
  },
  {
   "cell_type": "code",
   "execution_count": null,
   "metadata": {},
   "outputs": [],
   "source": [
    "show_table(table)"
   ]
  },
  {
   "cell_type": "code",
   "execution_count": null,
   "metadata": {},
   "outputs": [],
   "source": [
    "np.sum(table,axis=(0,1))"
   ]
  },
  {
   "cell_type": "code",
   "execution_count": null,
   "metadata": {},
   "outputs": [],
   "source": [
    "check_right_answer(table)"
   ]
  },
  {
   "cell_type": "markdown",
   "metadata": {},
   "source": [
    "### 测试递归方案"
   ]
  },
  {
   "cell_type": "code",
   "execution_count": null,
   "metadata": {},
   "outputs": [],
   "source": [
    "# 使用递归来尝试找到正确答案\n",
    "\n",
    "def test_answer(table):\n",
    "    #如果np.sum 都为10\n",
    "    if (np.sum(table,axis=(0,1))==10).all():\n",
    "        if recheck_answer(table):\n",
    "            \n",
    "            answer.append(table)\n",
    "\n",
    "        \n",
    "    else:\n",
    "        print('no,go on！')\n",
    "        #找到table里只有2个可能性的，给一个赋值        \n",
    "        table_sum=np.sum(table,axis=(0,1))\n",
    "        the_2_index=np.argwhere(table_sum==2)\n",
    "        print(the_2_index)\n",
    "        if the_2_index.any():\n",
    "            print('there is')\n",
    "            \n",
    "            row,col=the_2_index[0]\n",
    "            change_index=np.argwhere(table[:,:,row,col]==1)\n",
    "            for i in change_index:\n",
    "                num_stage,group=i\n",
    "                new_table=table.copy()\n",
    "                new_table[num_stage,group,row,col]=10\n",
    "                #更新这个table check1to0\n",
    "                new_table=check_1to0_num(new_table)\n",
    "                print('_'*20)\n",
    "                show_table(new_table)\n",
    "                test_answer(new_table) \n",
    "        else:\n",
    "            print('there is not')\n",
    "               "
   ]
  },
  {
   "cell_type": "code",
   "execution_count": null,
   "metadata": {},
   "outputs": [],
   "source": [
    "answer=[]\n",
    "test_answer(table)"
   ]
  },
  {
   "cell_type": "code",
   "execution_count": null,
   "metadata": {},
   "outputs": [],
   "source": [
    "len(answer)"
   ]
  },
  {
   "cell_type": "code",
   "execution_count": null,
   "metadata": {},
   "outputs": [],
   "source": [
    "show_table(answer[2])"
   ]
  },
  {
   "cell_type": "code",
   "execution_count": null,
   "metadata": {},
   "outputs": [],
   "source": [
    "(np.sum(answer[2],axis=(2,3))==10).all()"
   ]
  },
  {
   "cell_type": "code",
   "execution_count": null,
   "metadata": {},
   "outputs": [],
   "source": [
    "table[:,0,:,:]"
   ]
  },
  {
   "cell_type": "markdown",
   "metadata": {},
   "source": [
    "#### 挑一个2种可能的数"
   ]
  },
  {
   "cell_type": "code",
   "execution_count": null,
   "metadata": {},
   "outputs": [],
   "source": [
    "table_sum=np.sum(table,axis=(0,1))\n",
    "the_2_index=np.argwhere(table_sum==9)\n",
    "the_2_index"
   ]
  },
  {
   "cell_type": "code",
   "execution_count": null,
   "metadata": {},
   "outputs": [],
   "source": [
    "if ~the_2_index.any():\n",
    "    print('yes')"
   ]
  },
  {
   "cell_type": "code",
   "execution_count": null,
   "metadata": {},
   "outputs": [],
   "source": [
    "change_index=np.argwhere(table[:,:,0,6]==1)\n",
    "change_index[0]"
   ]
  },
  {
   "cell_type": "code",
   "execution_count": null,
   "metadata": {},
   "outputs": [],
   "source": [
    "for i in change_index:\n",
    "    print(i)\n",
    "    num_stage,group=i\n",
    "    print(num_stage)\n",
    "    print(group)\n",
    "    new_table=table.copy()\n",
    "    new_table[num_stage,group,row,col]=10\n",
    "    \n",
    "    "
   ]
  },
  {
   "cell_type": "code",
   "execution_count": null,
   "metadata": {},
   "outputs": [],
   "source": [
    "new_table[:,:,0,6]"
   ]
  },
  {
   "cell_type": "code",
   "execution_count": null,
   "metadata": {},
   "outputs": [],
   "source": [
    "def add(num):\n",
    "    if num==0:\n",
    "        return       \n",
    "        \n",
    "    else:\n",
    "        num-=1\n",
    "        list.append(num)\n",
    "        add(num)\n",
    "        "
   ]
  },
  {
   "cell_type": "code",
   "execution_count": null,
   "metadata": {},
   "outputs": [],
   "source": [
    "list=[]\n",
    "add(3)"
   ]
  },
  {
   "cell_type": "code",
   "execution_count": null,
   "metadata": {},
   "outputs": [],
   "source": [
    "list"
   ]
  },
  {
   "cell_type": "code",
   "execution_count": null,
   "metadata": {},
   "outputs": [],
   "source": [
    "list=[1,2]\n",
    "list2=[3,4]\n",
    "list+list2"
   ]
  }
 ],
 "metadata": {
  "kernelspec": {
   "display_name": "Python 3",
   "language": "python",
   "name": "python3"
  },
  "language_info": {
   "codemirror_mode": {
    "name": "ipython",
    "version": 3
   },
   "file_extension": ".py",
   "mimetype": "text/x-python",
   "name": "python",
   "nbconvert_exporter": "python",
   "pygments_lexer": "ipython3",
   "version": "3.8.5"
  }
 },
 "nbformat": 4,
 "nbformat_minor": 4
}
