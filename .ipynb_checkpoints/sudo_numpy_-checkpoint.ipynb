{
 "cells": [
  {
   "cell_type": "code",
   "execution_count": 1,
   "metadata": {},
   "outputs": [],
   "source": [
    "import sys  # 导入sys模块\n",
    "import time\n",
    "\n",
    "import numpy as np\n",
    "\n",
    "sys.setrecursionlimit(3000)\n",
    "import pandas as pd"
   ]
  },
  {
   "cell_type": "markdown",
   "metadata": {},
   "source": [
    "## 说明\n",
    "- 生成 9*9*9 矩阵 依次对应 1～9 相位（NumStage），row，line/clo；\n",
    "- 9块区域用group代表\n",
    "- 确定/可能/不可能 依次用 10/1/0 来代表"
   ]
  },
  {
   "cell_type": "markdown",
   "metadata": {},
   "source": [
    "## 录入矩阵"
   ]
  },
  {
   "cell_type": "code",
   "execution_count": 2,
   "metadata": {},
   "outputs": [],
   "source": [
    "def creat_new_table(start_list):\n",
    "    #根据录入列表生成table\n",
    "    start_np=np.array(start_list1).reshape((9,9))\n",
    "    the_np=np.ones((9,9,9))*start_np\n",
    "    the_np=np.where(the_np==0,np.ones((9,9,9)),0)\n",
    "    np_ls=[]\n",
    "    num=1\n",
    "    for i in the_np:\n",
    "        np_ls.append(np.where(start_np==num,10,i))\n",
    "        num=num+1\n",
    "    the_table=np.concatenate(np_ls,axis=0).reshape((9,9,9)).astype(np.int32)\n",
    "    \n",
    "    return the_table"
   ]
  },
  {
   "cell_type": "markdown",
   "metadata": {},
   "source": [
    "## 更新矩阵"
   ]
  },
  {
   "cell_type": "markdown",
   "metadata": {},
   "source": [
    "### 生成group_np"
   ]
  },
  {
   "cell_type": "code",
   "execution_count": 3,
   "metadata": {},
   "outputs": [],
   "source": [
    "def creat_group_np():\n",
    "    # 生成检查group 用 np\n",
    "    group_div=[\n",
    "        [0,3,0,3],\n",
    "        [0,3,3,6],\n",
    "        [0,3,6,9],\n",
    "        [3,6,0,3],\n",
    "        [3,6,3,6],\n",
    "        [3,6,6,9],\n",
    "        [6,9,0,3],\n",
    "        [6,9,3,6],\n",
    "        [6,9,6,9]  \n",
    "        ]\n",
    "    np_ls=[]\n",
    "    for nums in group_div:\n",
    "        group_np=np.zeros((9,9))\n",
    "        group_np[nums[0]:nums[1],nums[2]:nums[3]]=1\n",
    "        np_ls.append(group_np)\n",
    "    the_table=np.concatenate(np_ls,axis=0).reshape((9,9,9)).astype(np.int32)\n",
    "\n",
    "    return the_table"
   ]
  },
  {
   "cell_type": "markdown",
   "metadata": {},
   "source": [
    "### 1 to 10 后，将相关数1 to 0"
   ]
  },
  {
   "cell_type": "markdown",
   "metadata": {},
   "source": [
    "#### 将group 1 to 10 "
   ]
  },
  {
   "cell_type": "code",
   "execution_count": 4,
   "metadata": {},
   "outputs": [],
   "source": [
    "def group_1to0(new_table):\n",
    "    group_div=[\n",
    "        [0,3,0,3],\n",
    "        [0,3,3,6],\n",
    "        [0,3,6,9],\n",
    "        [3,6,0,3],\n",
    "        [3,6,3,6],\n",
    "        [3,6,6,9],\n",
    "        [6,9,0,3],\n",
    "        [6,9,3,6],\n",
    "        [6,9,6,9]  \n",
    "        ]\n",
    "    for num_stage in range(9):\n",
    "        the_where=np.array(np.where((new_table[num_stage]*creat_group_np())==10)).T\n",
    "        for i in the_where:\n",
    "            # 数组i 的0,1,2 依次为 group，row,col\n",
    "\n",
    "            the_div=group_div[i[0]] #提取group 的区间\n",
    "            new_table[num_stage,the_div[0]:the_div[1],the_div[2]:the_div[3]]=0 #将group区间都更新为0\n",
    "\n",
    "            new_table[num_stage][i[1],i[2]]=10#将原10位置更新为10\n",
    "    return new_table"
   ]
  },
  {
   "cell_type": "code",
   "execution_count": 5,
   "metadata": {},
   "outputs": [],
   "source": [
    "def table_1to0(the_table):\n",
    "    # 将10_block相关都更新为0\n",
    "    the_where=np.array(np.where(the_table==10)).T\n",
    "    for i in the_where:\n",
    "        the_table[i[0],i[1]]=0\n",
    "        the_table[i[0],:,i[2]]=0\n",
    "        the_table[:,i[1],i[2]]=0\n",
    "        the_table[i[0],i[1],i[2]]=10\n",
    "    the_table=group_1to0(the_table)\n",
    "    return the_table"
   ]
  },
  {
   "cell_type": "markdown",
   "metadata": {},
   "source": [
    "### 将确定唯一的数1改为10"
   ]
  },
  {
   "cell_type": "code",
   "execution_count": 6,
   "metadata": {},
   "outputs": [],
   "source": [
    "def the_one_0(the_table):\n",
    "    #将num_stage 为1替换为10\n",
    "    the_one=np.sum(the_table,axis=0)\n",
    "    if 1 in the_one:\n",
    "        the_where=np.array(np.where(the_one==1)).T\n",
    "        for i in the_where:\n",
    "            the_table[:,i[0],i[1]]=np.where(the_table[:,i[0],i[1]]==1,10,the_table[:,i[0],i[1]])\n",
    "    return the_table"
   ]
  },
  {
   "cell_type": "code",
   "execution_count": 7,
   "metadata": {},
   "outputs": [],
   "source": [
    "def the_one_1(the_table):\n",
    "    #将col_stage 为1替换为10\n",
    "    the_one=np.sum(the_table,axis=1)\n",
    "    if 1 in the_one:\n",
    "        the_where=np.array(np.where(the_one==1)).T\n",
    "        for i in the_where:\n",
    "            the_table[i[0],:,i[1]]=np.where(the_table[i[0],:,i[1]]==1,10,the_table[i[0],:,i[1]])\n",
    "    return the_table"
   ]
  },
  {
   "cell_type": "code",
   "execution_count": 8,
   "metadata": {},
   "outputs": [],
   "source": [
    "def the_one_2(the_table):\n",
    "    #将line_stage 为1替换为10\n",
    "    the_one=np.sum(the_table,axis=2)\n",
    "    if 1 in the_one:\n",
    "        the_where=np.array(np.where(the_one==1)).T\n",
    "        for i in the_where:\n",
    "            the_table[i[0],i[1],:]=np.where(the_table[i[0],i[1],:]==1,10,the_table[i[0],i[1],:])\n",
    "    return the_table"
   ]
  },
  {
   "cell_type": "markdown",
   "metadata": {},
   "source": [
    "### 检测是否有独立带1的block"
   ]
  },
  {
   "cell_type": "code",
   "execution_count": 9,
   "metadata": {},
   "outputs": [],
   "source": [
    "def check_one_in(the_table):\n",
    "    # 判断是否有1需要替换为10的项目\n",
    "    if 1 in np.sum(the_table,axis=0):\n",
    "        return True\n",
    "    elif 1 in np.sum(the_table,axis=1):\n",
    "        return True\n",
    "    elif 1 in np.sum(the_table,axis=2):\n",
    "        return True\n",
    "    else:\n",
    "        return False"
   ]
  },
  {
   "cell_type": "markdown",
   "metadata": {},
   "source": [
    "## 循环检测更新 the_table"
   ]
  },
  {
   "cell_type": "code",
   "execution_count": 10,
   "metadata": {},
   "outputs": [],
   "source": [
    "def cycle_check(the_table):\n",
    "    # 循环检测其中需要更新项目\n",
    "    the_table=table_1to0(the_table)\n",
    "    while check_one_in(the_table):\n",
    "        the_table=the_one_0(the_table)\n",
    "        the_table=the_one_1(the_table)\n",
    "        the_table=the_one_2(the_table)\n",
    "        the_table=table_1to0(the_table)\n",
    "    return the_table"
   ]
  },
  {
   "cell_type": "markdown",
   "metadata": {},
   "source": [
    "## 展示结果"
   ]
  },
  {
   "cell_type": "code",
   "execution_count": 11,
   "metadata": {},
   "outputs": [],
   "source": [
    "def show_table(the_table):\n",
    "    #show the table maybe\n",
    "    the_add=(the_table.transpose((1,2,0))).reshape((81,9)) # 对table转置\n",
    "    the_add=np.where(the_add==10,1,the_add)*np.linspace(1,9,num=9,dtype=int)\n",
    "    \n",
    "    the_ls=[]\n",
    "    the_add=the_add.astype(int)\n",
    "    for i in the_add:\n",
    "    #     print(i)\n",
    "        ls=''\n",
    "        for j in i:\n",
    "            if j!=0:\n",
    "                j=j.astype(str)\n",
    "                ls=ls+j\n",
    "        the_ls.append(ls)\n",
    "        \n",
    "    new_ls=[]\n",
    "    for i in range(9):\n",
    "        new_ls.append(the_ls[i*9:i*9+9])\n",
    "    return pd.DataFrame(new_ls)"
   ]
  },
  {
   "cell_type": "markdown",
   "metadata": {},
   "source": [
    "## 测试"
   ]
  },
  {
   "cell_type": "code",
   "execution_count": 12,
   "metadata": {},
   "outputs": [
    {
     "data": {
      "text/html": [
       "<div>\n",
       "<style scoped>\n",
       "    .dataframe tbody tr th:only-of-type {\n",
       "        vertical-align: middle;\n",
       "    }\n",
       "\n",
       "    .dataframe tbody tr th {\n",
       "        vertical-align: top;\n",
       "    }\n",
       "\n",
       "    .dataframe thead th {\n",
       "        text-align: right;\n",
       "    }\n",
       "</style>\n",
       "<table border=\"1\" class=\"dataframe\">\n",
       "  <thead>\n",
       "    <tr style=\"text-align: right;\">\n",
       "      <th></th>\n",
       "      <th>0</th>\n",
       "      <th>1</th>\n",
       "      <th>2</th>\n",
       "      <th>3</th>\n",
       "      <th>4</th>\n",
       "      <th>5</th>\n",
       "      <th>6</th>\n",
       "      <th>7</th>\n",
       "      <th>8</th>\n",
       "    </tr>\n",
       "  </thead>\n",
       "  <tbody>\n",
       "    <tr>\n",
       "      <th>0</th>\n",
       "      <td>125</td>\n",
       "      <td>8</td>\n",
       "      <td>2</td>\n",
       "      <td>49</td>\n",
       "      <td>459</td>\n",
       "      <td>7</td>\n",
       "      <td>13459</td>\n",
       "      <td>123459</td>\n",
       "      <td>6</td>\n",
       "    </tr>\n",
       "    <tr>\n",
       "      <th>1</th>\n",
       "      <td>157</td>\n",
       "      <td>3</td>\n",
       "      <td>9</td>\n",
       "      <td>2</td>\n",
       "      <td>456</td>\n",
       "      <td>8</td>\n",
       "      <td>1457</td>\n",
       "      <td>1457</td>\n",
       "      <td>157</td>\n",
       "    </tr>\n",
       "    <tr>\n",
       "      <th>2</th>\n",
       "      <td>4</td>\n",
       "      <td>57</td>\n",
       "      <td>267</td>\n",
       "      <td>1</td>\n",
       "      <td>3</td>\n",
       "      <td>9</td>\n",
       "      <td>579</td>\n",
       "      <td>25789</td>\n",
       "      <td>25789</td>\n",
       "    </tr>\n",
       "    <tr>\n",
       "      <th>3</th>\n",
       "      <td>9</td>\n",
       "      <td>17</td>\n",
       "      <td>5</td>\n",
       "      <td>678</td>\n",
       "      <td>12678</td>\n",
       "      <td>123</td>\n",
       "      <td>1367</td>\n",
       "      <td>123678</td>\n",
       "      <td>4</td>\n",
       "    </tr>\n",
       "    <tr>\n",
       "      <th>4</th>\n",
       "      <td>17</td>\n",
       "      <td>147</td>\n",
       "      <td>3</td>\n",
       "      <td>46789</td>\n",
       "      <td>1246789</td>\n",
       "      <td>1249</td>\n",
       "      <td>15679</td>\n",
       "      <td>1256789</td>\n",
       "      <td>125789</td>\n",
       "    </tr>\n",
       "    <tr>\n",
       "      <th>5</th>\n",
       "      <td>6</td>\n",
       "      <td>2</td>\n",
       "      <td>478</td>\n",
       "      <td>4789</td>\n",
       "      <td>14789</td>\n",
       "      <td>5</td>\n",
       "      <td>1379</td>\n",
       "      <td>13789</td>\n",
       "      <td>13789</td>\n",
       "    </tr>\n",
       "    <tr>\n",
       "      <th>6</th>\n",
       "      <td>8</td>\n",
       "      <td>4579</td>\n",
       "      <td>1</td>\n",
       "      <td>479</td>\n",
       "      <td>479</td>\n",
       "      <td>6</td>\n",
       "      <td>2</td>\n",
       "      <td>34579</td>\n",
       "      <td>3579</td>\n",
       "    </tr>\n",
       "    <tr>\n",
       "      <th>7</th>\n",
       "      <td>237</td>\n",
       "      <td>479</td>\n",
       "      <td>247</td>\n",
       "      <td>5</td>\n",
       "      <td>124789</td>\n",
       "      <td>1249</td>\n",
       "      <td>134679</td>\n",
       "      <td>134679</td>\n",
       "      <td>1379</td>\n",
       "    </tr>\n",
       "    <tr>\n",
       "      <th>8</th>\n",
       "      <td>257</td>\n",
       "      <td>6</td>\n",
       "      <td>247</td>\n",
       "      <td>3</td>\n",
       "      <td>12479</td>\n",
       "      <td>1249</td>\n",
       "      <td>8</td>\n",
       "      <td>14579</td>\n",
       "      <td>1579</td>\n",
       "    </tr>\n",
       "  </tbody>\n",
       "</table>\n",
       "</div>"
      ],
      "text/plain": [
       "     0     1    2      3        4     5       6        7       8\n",
       "0  125     8    2     49      459     7   13459   123459       6\n",
       "1  157     3    9      2      456     8    1457     1457     157\n",
       "2    4    57  267      1        3     9     579    25789   25789\n",
       "3    9    17    5    678    12678   123    1367   123678       4\n",
       "4   17   147    3  46789  1246789  1249   15679  1256789  125789\n",
       "5    6     2  478   4789    14789     5    1379    13789   13789\n",
       "6    8  4579    1    479      479     6       2    34579    3579\n",
       "7  237   479  247      5   124789  1249  134679   134679    1379\n",
       "8  257     6  247      3    12479  1249       8    14579    1579"
      ]
     },
     "execution_count": 12,
     "metadata": {},
     "output_type": "execute_result"
    }
   ],
   "source": [
    "time_start=time.time()\n",
    "# 开局信息1\n",
    "start_list1=[\n",
    "    0,8,0,0,0,7,0,0,6,\n",
    "    0,3,9,2,0,8,0,0,0,\n",
    "    4,0,0,1,3,0,0,0,0,\n",
    "    9,0,5,0,0,0,0,0,4,\n",
    "    0,0,3,0,0,0,0,0,0,\n",
    "    6,2,0,0,0,5,0,0,0,\n",
    "    8,0,1,0,0,6,2,0,0,\n",
    "    0,0,0,5,0,0,0,0,0,\n",
    "    0,6,0,3,0,0,8,0,0\n",
    "]\n",
    "new_table=creat_new_table(start_list1)\n",
    "new_table=table_1to0(new_table)\n",
    "show_table(new_table)"
   ]
  },
  {
   "cell_type": "code",
   "execution_count": 13,
   "metadata": {},
   "outputs": [
    {
     "data": {
      "text/html": [
       "<div>\n",
       "<style scoped>\n",
       "    .dataframe tbody tr th:only-of-type {\n",
       "        vertical-align: middle;\n",
       "    }\n",
       "\n",
       "    .dataframe tbody tr th {\n",
       "        vertical-align: top;\n",
       "    }\n",
       "\n",
       "    .dataframe thead th {\n",
       "        text-align: right;\n",
       "    }\n",
       "</style>\n",
       "<table border=\"1\" class=\"dataframe\">\n",
       "  <thead>\n",
       "    <tr style=\"text-align: right;\">\n",
       "      <th></th>\n",
       "      <th>0</th>\n",
       "      <th>1</th>\n",
       "      <th>2</th>\n",
       "      <th>3</th>\n",
       "      <th>4</th>\n",
       "      <th>5</th>\n",
       "      <th>6</th>\n",
       "      <th>7</th>\n",
       "      <th>8</th>\n",
       "    </tr>\n",
       "  </thead>\n",
       "  <tbody>\n",
       "    <tr>\n",
       "      <th>0</th>\n",
       "      <td>1</td>\n",
       "      <td>8</td>\n",
       "      <td>2</td>\n",
       "      <td>4</td>\n",
       "      <td>5</td>\n",
       "      <td>7</td>\n",
       "      <td>39</td>\n",
       "      <td>39</td>\n",
       "      <td>6</td>\n",
       "    </tr>\n",
       "    <tr>\n",
       "      <th>1</th>\n",
       "      <td>5</td>\n",
       "      <td>3</td>\n",
       "      <td>9</td>\n",
       "      <td>2</td>\n",
       "      <td>6</td>\n",
       "      <td>8</td>\n",
       "      <td>4</td>\n",
       "      <td>17</td>\n",
       "      <td>17</td>\n",
       "    </tr>\n",
       "    <tr>\n",
       "      <th>2</th>\n",
       "      <td>4</td>\n",
       "      <td>7</td>\n",
       "      <td>6</td>\n",
       "      <td>1</td>\n",
       "      <td>3</td>\n",
       "      <td>9</td>\n",
       "      <td>5</td>\n",
       "      <td>28</td>\n",
       "      <td>28</td>\n",
       "    </tr>\n",
       "    <tr>\n",
       "      <th>3</th>\n",
       "      <td>9</td>\n",
       "      <td>1</td>\n",
       "      <td>5</td>\n",
       "      <td>678</td>\n",
       "      <td>27</td>\n",
       "      <td>3</td>\n",
       "      <td>67</td>\n",
       "      <td>2678</td>\n",
       "      <td>4</td>\n",
       "    </tr>\n",
       "    <tr>\n",
       "      <th>4</th>\n",
       "      <td>7</td>\n",
       "      <td>4</td>\n",
       "      <td>3</td>\n",
       "      <td>689</td>\n",
       "      <td>29</td>\n",
       "      <td>1</td>\n",
       "      <td>69</td>\n",
       "      <td>25689</td>\n",
       "      <td>2589</td>\n",
       "    </tr>\n",
       "    <tr>\n",
       "      <th>5</th>\n",
       "      <td>6</td>\n",
       "      <td>2</td>\n",
       "      <td>8</td>\n",
       "      <td>79</td>\n",
       "      <td>4</td>\n",
       "      <td>5</td>\n",
       "      <td>1379</td>\n",
       "      <td>1379</td>\n",
       "      <td>179</td>\n",
       "    </tr>\n",
       "    <tr>\n",
       "      <th>6</th>\n",
       "      <td>8</td>\n",
       "      <td>5</td>\n",
       "      <td>1</td>\n",
       "      <td>79</td>\n",
       "      <td>79</td>\n",
       "      <td>6</td>\n",
       "      <td>2</td>\n",
       "      <td>4</td>\n",
       "      <td>3</td>\n",
       "    </tr>\n",
       "    <tr>\n",
       "      <th>7</th>\n",
       "      <td>3</td>\n",
       "      <td>9</td>\n",
       "      <td>4</td>\n",
       "      <td>5</td>\n",
       "      <td>8</td>\n",
       "      <td>2</td>\n",
       "      <td>167</td>\n",
       "      <td>167</td>\n",
       "      <td>17</td>\n",
       "    </tr>\n",
       "    <tr>\n",
       "      <th>8</th>\n",
       "      <td>2</td>\n",
       "      <td>6</td>\n",
       "      <td>7</td>\n",
       "      <td>3</td>\n",
       "      <td>1</td>\n",
       "      <td>4</td>\n",
       "      <td>8</td>\n",
       "      <td>59</td>\n",
       "      <td>59</td>\n",
       "    </tr>\n",
       "  </tbody>\n",
       "</table>\n",
       "</div>"
      ],
      "text/plain": [
       "   0  1  2    3   4  5     6      7     8\n",
       "0  1  8  2    4   5  7    39     39     6\n",
       "1  5  3  9    2   6  8     4     17    17\n",
       "2  4  7  6    1   3  9     5     28    28\n",
       "3  9  1  5  678  27  3    67   2678     4\n",
       "4  7  4  3  689  29  1    69  25689  2589\n",
       "5  6  2  8   79   4  5  1379   1379   179\n",
       "6  8  5  1   79  79  6     2      4     3\n",
       "7  3  9  4    5   8  2   167    167    17\n",
       "8  2  6  7    3   1  4     8     59    59"
      ]
     },
     "execution_count": 13,
     "metadata": {},
     "output_type": "execute_result"
    }
   ],
   "source": [
    "the_table=cycle_check(new_table)\n",
    "show_table(the_table)"
   ]
  },
  {
   "cell_type": "code",
   "execution_count": 14,
   "metadata": {},
   "outputs": [
    {
     "name": "stdout",
     "output_type": "stream",
     "text": [
      "0.02823019027709961\n"
     ]
    }
   ],
   "source": [
    "time_end=time.time()\n",
    "print(time_end-time_start)"
   ]
  },
  {
   "cell_type": "code",
   "execution_count": 15,
   "metadata": {},
   "outputs": [
    {
     "data": {
      "text/plain": [
       "array([[10, 10, 10, 10, 10, 10,  2,  2, 10],\n",
       "       [10, 10, 10, 10, 10, 10, 10,  2,  2],\n",
       "       [10, 10, 10, 10, 10, 10, 10,  2,  2],\n",
       "       [10, 10, 10,  3,  2, 10,  2,  4, 10],\n",
       "       [10, 10, 10,  3,  2, 10,  2,  5,  4],\n",
       "       [10, 10, 10,  2, 10, 10,  4,  4,  3],\n",
       "       [10, 10, 10,  2,  2, 10, 10, 10, 10],\n",
       "       [10, 10, 10, 10, 10, 10,  3,  3,  2],\n",
       "       [10, 10, 10, 10, 10, 10, 10,  2,  2]])"
      ]
     },
     "execution_count": 15,
     "metadata": {},
     "output_type": "execute_result"
    }
   ],
   "source": [
    "np.sum(the_table,axis=0)"
   ]
  },
  {
   "cell_type": "markdown",
   "metadata": {},
   "source": [
    "## 寻找 twin block"
   ]
  },
  {
   "cell_type": "code",
   "execution_count": 16,
   "metadata": {},
   "outputs": [
    {
     "data": {
      "text/plain": [
       "array([[0, 6],\n",
       "       [0, 7],\n",
       "       [1, 7],\n",
       "       [1, 8],\n",
       "       [2, 7],\n",
       "       [2, 8],\n",
       "       [3, 4],\n",
       "       [3, 6],\n",
       "       [4, 4],\n",
       "       [4, 6],\n",
       "       [5, 3],\n",
       "       [6, 3],\n",
       "       [6, 4],\n",
       "       [7, 8],\n",
       "       [8, 7],\n",
       "       [8, 8]])"
      ]
     },
     "execution_count": 16,
     "metadata": {},
     "output_type": "execute_result"
    }
   ],
   "source": [
    "the_two=np.sum(the_table,axis=0)\n",
    "the_two_where=np.array(np.where(the_two==2)).T\n",
    "the_two_where"
   ]
  },
  {
   "cell_type": "code",
   "execution_count": 19,
   "metadata": {},
   "outputs": [],
   "source": [
    "# 检查同一行的是否 相同\n",
    "    #如相同，将同一行其他 twin——num清零\n",
    "\n",
    "# 检查同一列是否相同\n",
    "  #如相同，将同一列其他 清零\n",
    "\n",
    "# 检查同一group 是否相同"
   ]
  },
  {
   "cell_type": "code",
   "execution_count": 21,
   "metadata": {},
   "outputs": [
    {
     "data": {
      "text/plain": [
       "0    False\n",
       "1    False\n",
       "2    False\n",
       "3    False\n",
       "4    False\n",
       "5    False\n",
       "6    False\n",
       "7    False\n",
       "8    False\n",
       "dtype: bool"
      ]
     },
     "execution_count": 21,
     "metadata": {},
     "output_type": "execute_result"
    }
   ],
   "source": [
    "show_table(the_table).duplicated()"
   ]
  },
  {
   "cell_type": "code",
   "execution_count": null,
   "metadata": {},
   "outputs": [],
   "source": []
  }
 ],
 "metadata": {
  "kernelspec": {
   "display_name": "Python 3",
   "language": "python",
   "name": "python3"
  },
  "language_info": {
   "codemirror_mode": {
    "name": "ipython",
    "version": 3
   },
   "file_extension": ".py",
   "mimetype": "text/x-python",
   "name": "python",
   "nbconvert_exporter": "python",
   "pygments_lexer": "ipython3",
   "version": "3.8.5"
  }
 },
 "nbformat": 4,
 "nbformat_minor": 4
}
