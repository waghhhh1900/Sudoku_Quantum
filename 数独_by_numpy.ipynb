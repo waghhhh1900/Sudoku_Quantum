{
 "cells": [
  {
   "cell_type": "code",
   "execution_count": 1,
   "metadata": {},
   "outputs": [],
   "source": [
    "import numpy as np\n",
    "import sys  # 导入sys模块\n",
    "import time\n",
    "sys.setrecursionlimit(3000)"
   ]
  },
  {
   "cell_type": "markdown",
   "metadata": {},
   "source": [
    "# 录入table数据"
   ]
  },
  {
   "cell_type": "code",
   "execution_count": 2,
   "metadata": {},
   "outputs": [],
   "source": [
    "def creat_new_table():\n",
    "    # 每一纬度依次为 num_stage,group，row，col, 可能、不可能、确定 依次为 1，0，10\n",
    "    table=np.ones((9,9,9,9)).astype(np.int32)\n",
    "    # 对与grop 进行定义\n",
    "    group_list=[\n",
    "        1,1,1,2,2,2,3,3,3,\n",
    "        1,1,1,2,2,2,3,3,3,\n",
    "        1,1,1,2,2,2,3,3,3,\n",
    "        4,4,4,5,5,5,6,6,6,\n",
    "        4,4,4,5,5,5,6,6,6,\n",
    "        4,4,4,5,5,5,6,6,6,\n",
    "        7,7,7,8,8,8,9,9,9,\n",
    "        7,7,7,8,8,8,9,9,9,  \n",
    "        7,7,7,8,8,8,9,9,9,  \n",
    "    ]\n",
    "\n",
    "    group_np=np.array(group_list).reshape(9,9)\n",
    "\n",
    "    #每一个num_stage\n",
    "    for num_stage in range(0,9):\n",
    "\n",
    "        #每一个group\n",
    "        for group in range(0,9):\n",
    "\n",
    "            table[num_stage,group]=np.where(group_np!=group+1,0,table[num_stage,group])\n",
    "            \n",
    "    return table"
   ]
  },
  {
   "cell_type": "code",
   "execution_count": 3,
   "metadata": {},
   "outputs": [],
   "source": [
    "# 知道row,col,求group\n",
    "def get_group(row,col):\n",
    "    \n",
    "    group_list=[\n",
    "        1,1,1,2,2,2,3,3,3,\n",
    "        1,1,1,2,2,2,3,3,3,\n",
    "        1,1,1,2,2,2,3,3,3,\n",
    "        4,4,4,5,5,5,6,6,6,\n",
    "        4,4,4,5,5,5,6,6,6,\n",
    "        4,4,4,5,5,5,6,6,6,\n",
    "        7,7,7,8,8,8,9,9,9,\n",
    "        7,7,7,8,8,8,9,9,9,  \n",
    "        7,7,7,8,8,8,9,9,9,  \n",
    "    ]\n",
    "\n",
    "    group_np=np.array(group_list).reshape(9,9)\n",
    "    group=group_np[row,col]-1\n",
    "    return group\n",
    "    "
   ]
  },
  {
   "cell_type": "code",
   "execution_count": 4,
   "metadata": {},
   "outputs": [],
   "source": [
    "#根据提供的数据更新table\n",
    "def input_table(start_np):\n",
    "    table=creat_new_table()\n",
    "    the_index=np.argwhere(start_np!=0)\n",
    "    for index in the_index:\n",
    "        row,col=index\n",
    "        num_stage=start_np[row,col]-1\n",
    "        table=rebuilt_table_by_blog(table,num_stage,row,col)\n",
    "        \n",
    "    return table"
   ]
  },
  {
   "cell_type": "markdown",
   "metadata": {},
   "source": [
    "# 更新table"
   ]
  },
  {
   "cell_type": "markdown",
   "metadata": {},
   "source": [
    "### 根据已经确定的num_stage 进行更新"
   ]
  },
  {
   "cell_type": "code",
   "execution_count": 5,
   "metadata": {},
   "outputs": [],
   "source": [
    "# table_sum 里有1 将这块改为10\n",
    "def sum_1_to_10(table):\n",
    "    # 如果一个blog只有1种num_stage 就替换为10\n",
    "    table_sum=np.sum(table,axis=(0,1))\n",
    "    \n",
    "   \n",
    "    the_index=np.argwhere(table_sum==1)\n",
    "    for index in the_index:\n",
    "        row,col=index\n",
    "        group=get_group(row,col)\n",
    "        num_stage=get_blog_numstage(table,1,group,row,col)\n",
    "        if num_stage:\n",
    "            table=rebuilt_table_by_blog(table,num_stage[0],row,col)\n",
    "\n",
    "    return table"
   ]
  },
  {
   "cell_type": "code",
   "execution_count": 6,
   "metadata": {},
   "outputs": [],
   "source": [
    "# 已确定blog的num_stage，更新相关数据\n",
    "def rebuilt_table_by_blog(table,num_stage,row,col):\n",
    "    #将同一group的更新0\n",
    "    group=get_group(row,col)\n",
    "    \n",
    "#     print('更新row%d,col%d,group%d 为%d'%(row,col,group,num_stage+1))\n",
    "    table[num_stage,group,:,:]=0\n",
    "    table[num_stage,:,:,col]=0\n",
    "    table[num_stage,:,row,:]=0\n",
    "    table[:,:,row,col]=0\n",
    "    table[num_stage,group,row,col]=10\n",
    "    \n",
    "    return table"
   ]
  },
  {
   "cell_type": "code",
   "execution_count": 7,
   "metadata": {},
   "outputs": [],
   "source": [
    "\n",
    "#根据已有信息重塑table\n",
    "def rebuilt_table(table):\n",
    "    \n",
    "    while (np.sum(table,axis=(0,1))==1).any():\n",
    "        table=sum_1_to_10(table)\n",
    "        \n",
    "    return table"
   ]
  },
  {
   "cell_type": "code",
   "execution_count": 8,
   "metadata": {},
   "outputs": [],
   "source": [
    "def rebuilt_table_twin(table):\n",
    "    while ~(table==check_twin(table)).all():\n",
    "        table=check_twin(table)\n",
    "        table=rebuilt_table(table)\n",
    "    return table\n",
    "        "
   ]
  },
  {
   "cell_type": "code",
   "execution_count": null,
   "metadata": {},
   "outputs": [],
   "source": []
  },
  {
   "cell_type": "markdown",
   "metadata": {},
   "source": [
    "### 对于twin_blog 进行更新"
   ]
  },
  {
   "cell_type": "code",
   "execution_count": 9,
   "metadata": {},
   "outputs": [],
   "source": [
    "# 取得每个数的super_num\n",
    "def get_SuperNum(table,row,col):\n",
    "    plus_np=[100000000,20000000,3000000,\n",
    "             400000,50000,6000,\n",
    "             700,80,9]\n",
    "    plus_np=np.array(plus_np)\n",
    "    min_num=np.sum(table,axis=1)[:,row,col]\n",
    "    return sum(plus_np*min_num)"
   ]
  },
  {
   "cell_type": "code",
   "execution_count": 10,
   "metadata": {},
   "outputs": [],
   "source": [
    "# 取得blog 为1的数位\n",
    "def get_numstage_list(table,row,col,num):\n",
    "    stage_list=np.argwhere(np.sum(table[:,:,row,col],axis=1)==num)\n",
    "    return stage_list"
   ]
  },
  {
   "cell_type": "code",
   "execution_count": 11,
   "metadata": {},
   "outputs": [],
   "source": [
    "# 获得check_np\n",
    "def get_check_np(table):\n",
    "    # 取得还有两种可能性的数\n",
    "    twin_index=np.argwhere(np.sum(table,axis=(0,1))==2)\n",
    "    superlist=[]\n",
    "    grouplist=[]\n",
    "    for index in twin_index:\n",
    "        row,col=index\n",
    "        grouplist.append(get_group(row,col))    \n",
    "        superlist.append(get_SuperNum(table,row,col))\n",
    "\n",
    "    check_np=np.column_stack((np.array(grouplist),twin_index,np.array(superlist)))\n",
    "   \n",
    "    \n",
    "    return check_np\n",
    "    "
   ]
  },
  {
   "cell_type": "code",
   "execution_count": 12,
   "metadata": {},
   "outputs": [],
   "source": [
    "def check_group_row_col(table,check_np,minus_np,check_row,add_row):\n",
    "    group,row,col=check_np[check_row][0:3]\n",
    "    second_group,second_row,second_col=check_np[check_row+add_row+1][0:3]\n",
    "    the_numstage_np=get_numstage_list(table,row,col,1)\n",
    "\n",
    "    #如果同group\n",
    "    if minus_np[add_row][0]==0:\n",
    "        table[:,group,:,:][the_numstage_np]=0       \n",
    "\n",
    "    elif minus_np[add_row][1]==0:\n",
    "        table[:,:,row,:][the_numstage_np]=0  \n",
    "\n",
    "\n",
    "    elif minus_np[add_row][2]==0:\n",
    "        table[:,:,:,col][the_numstage_np]=0\n",
    "    \n",
    "    \n",
    "\n",
    "\n",
    "    table[:,group,row,col][the_numstage_np]=1\n",
    "    table[:,second_group,second_row,second_col][the_numstage_np]=1\n",
    "    \n",
    "    return table\n",
    "        "
   ]
  },
  {
   "cell_type": "code",
   "execution_count": 13,
   "metadata": {},
   "outputs": [],
   "source": [
    "def check_minus(table,check_np,minus_np,check_row):\n",
    "    minus_np.shape[0]\n",
    "    add_row=0\n",
    "    while add_row<minus_np.shape[0]:\n",
    "        if (minus_np[add_row][3]==0)&(0 in minus_np[add_row][0:3]):\n",
    "            #检查是否有group，row,col\n",
    "            table=check_group_row_col(table,check_np,minus_np,check_row,add_row)\n",
    "\n",
    "        add_row+=1\n",
    "    return table\n"
   ]
  },
  {
   "cell_type": "code",
   "execution_count": 14,
   "metadata": {},
   "outputs": [],
   "source": [
    "# 检查table里的twin\n",
    "def check_twin(table):\n",
    "    check_np=get_check_np(table)\n",
    "    \n",
    "    n=check_np.shape[0]\n",
    "    check_row=0\n",
    "    while check_row<n:\n",
    "        minus_np=check_np[check_row+1:n]-check_np[check_row]\n",
    "        table=check_minus(table,check_np,minus_np,check_row)\n",
    "        check_row+=1\n",
    "    return table\n",
    "    "
   ]
  },
  {
   "cell_type": "code",
   "execution_count": null,
   "metadata": {},
   "outputs": [],
   "source": []
  },
  {
   "cell_type": "markdown",
   "metadata": {},
   "source": [
    "## 判断计算结果"
   ]
  },
  {
   "cell_type": "code",
   "execution_count": 15,
   "metadata": {},
   "outputs": [],
   "source": [
    "def get_blog_numstage(table,num_tag,group,row,col):\n",
    "    \n",
    "    return np.argwhere(table[:,group,row,col]==num_tag).T[0].tolist()"
   ]
  },
  {
   "cell_type": "code",
   "execution_count": 16,
   "metadata": {},
   "outputs": [],
   "source": [
    "# 判断是否求出正确解，用于递归\n",
    "def recheck_answer(table):\n",
    "    # 校核是否满足要求\n",
    "    # 每个位置是否只有一个确定\n",
    "    if all(\n",
    "        [\n",
    "            (np.sum(table,axis=(0,1))==10).all(),\n",
    "           (np.sum(table,axis=(1,2))==10).all(),\n",
    "           (np.sum(table,axis=(1,3))==10).all(),\n",
    "           (np.sum(table,axis=(2,3))==10).all()\n",
    "        ]\n",
    "    ):\n",
    "        print('yes ,fond it!!!')\n",
    "        return True\n",
    "    else:\n",
    "        print('sorry ,not it!!!')\n",
    "        return False\n",
    "        \n",
    "  \n",
    "    \n"
   ]
  },
  {
   "cell_type": "code",
   "execution_count": 17,
   "metadata": {},
   "outputs": [],
   "source": [
    "# 判断是否求出正确解\n",
    "def recheck_table(table):\n",
    "    # 校核是否满足要求\n",
    "    # 每个位置是否只有一个确定\n",
    "    if all(\n",
    "        [\n",
    "            (np.sum(table,axis=(1,2))==0).any(),\n",
    "         (np.sum(table,axis=(1,3))==0).any(),\n",
    "         (np.sum(table,axis=(2,3))==0).any()\n",
    "\n",
    "        ]\n",
    "    ):\n",
    "#         print('Warning ,it is not !!!')\n",
    "        return False\n",
    "    else:\n",
    "#         print('yeah ,go on!!!')\n",
    "        return True"
   ]
  },
  {
   "cell_type": "markdown",
   "metadata": {},
   "source": [
    "## 递归求answer"
   ]
  },
  {
   "cell_type": "code",
   "execution_count": 18,
   "metadata": {},
   "outputs": [],
   "source": [
    "# 使用递归来尝试找到正确答案\n",
    "\n",
    "def test_answer(table):\n",
    "#     print('_'*20)\n",
    "    #如果np.sum 都为10\n",
    "    if (np.sum(table,axis=(0,1))==10).all():\n",
    "        \n",
    "        answer.append(table)\n",
    "        \n",
    "    else:\n",
    "        \n",
    "        #找到table里只有2个可能性的，给一个赋值        \n",
    "        table_sum=np.sum(table,axis=(0,1))\n",
    "        the_2_index=np.argwhere(table_sum==2)\n",
    "        \n",
    "        if the_2_index.any():\n",
    "            \n",
    "            row,col=the_2_index[0]\n",
    "            group=get_group(row,col)\n",
    "            num_list=get_blog_numstage(table,1,group,row,col)\n",
    "            for num_stage in num_list:\n",
    "                new_table=table.copy()\n",
    "                new_table=rebuilt_table_by_blog(new_table,num_stage,row,col)\n",
    "                if recheck_table(new_table):\n",
    "                    new_table=rebuilt_table(new_table)\n",
    "                    \n",
    "                    test_answer(new_table)"
   ]
  },
  {
   "cell_type": "markdown",
   "metadata": {},
   "source": [
    "## 展示计算结果"
   ]
  },
  {
   "cell_type": "code",
   "execution_count": 19,
   "metadata": {},
   "outputs": [],
   "source": [
    "def get_bignum(table,index):\n",
    "    row,col=index\n",
    "\n",
    "    num_list=np.sum(table[:,:,row,col],axis=1)\n",
    "\n",
    "    numstage_list=np.argwhere(num_list==1)\n",
    "    numstage_list=(numstage_list+1)[:,0].tolist()\n",
    "    \n",
    "    big_num=0\n",
    "    plush_num=1\n",
    "    i=len(numstage_list)-1\n",
    "    while i>-1:\n",
    "        \n",
    "        big_num+=numstage_list[i]*plush_num\n",
    "        plush_num*=10\n",
    "        i-=1\n",
    "    \n",
    "    return big_num\n",
    "    "
   ]
  },
  {
   "cell_type": "code",
   "execution_count": 20,
   "metadata": {},
   "outputs": [],
   "source": [
    "# show 解数进展\n",
    "def show_table(table):\n",
    "    the_index=np.argwhere(table==10)    \n",
    "    show_table=np.zeros((9,9)).astype(np.int32)\n",
    "    for index in the_index:\n",
    "        num_stage,group,row,col=index\n",
    "        show_table[row,col]=num_stage+1\n",
    "    #未确定num—stage的数\n",
    "    table_sum=np.sum(table,axis=(0,1))\n",
    "    the_index=np.argwhere(table_sum!=10)\n",
    "    for index in the_index:\n",
    "        big_num=get_bignum(table,index)\n",
    "        row,col=index\n",
    "        show_table[row,col]=big_num\n",
    "        \n",
    "    return show_table\n"
   ]
  },
  {
   "cell_type": "code",
   "execution_count": 21,
   "metadata": {},
   "outputs": [],
   "source": [
    "# 展示计算结果\n",
    "def show_answer(answer):\n",
    "    print('数独结果是：')\n",
    "    print('\\n')\n",
    "    for i in answer:\n",
    "        print('_'*20)\n",
    "        print('\\n')\n",
    "        print(show_table(i))\n",
    "    \n",
    "        "
   ]
  },
  {
   "cell_type": "markdown",
   "metadata": {},
   "source": [
    "# 测试"
   ]
  },
  {
   "cell_type": "markdown",
   "metadata": {},
   "source": [
    "## 录入初始信息"
   ]
  },
  {
   "cell_type": "code",
   "execution_count": 22,
   "metadata": {},
   "outputs": [],
   "source": [
    "# 开局信息1\n",
    "start_list1=[\n",
    "    0,8,0,0,0,7,0,0,6,\n",
    "    0,3,9,2,0,8,0,0,0,\n",
    "    4,0,0,1,3,0,0,0,0,\n",
    "    9,0,5,0,0,0,0,0,4,\n",
    "    0,0,3,0,0,0,0,0,0,\n",
    "    6,2,0,0,0,5,0,0,0,\n",
    "    8,0,1,0,0,6,2,0,0,\n",
    "    0,0,0,5,0,0,0,0,0,\n",
    "    0,6,0,3,0,0,8,0,0\n",
    "]\n"
   ]
  },
  {
   "cell_type": "code",
   "execution_count": 23,
   "metadata": {},
   "outputs": [],
   "source": [
    "# 开局信息_2\n",
    "start_list2=[\n",
    "    5,0,2,0,0,0,0,8,0,\n",
    "    0,0,1,0,0,0,0,0,0,\n",
    "    0,0,0,4,0,3,0,0,0,\n",
    "    0,4,0,0,0,0,0,0,0,\n",
    "    0,0,0,0,0,6,7,0,9,\n",
    "    0,0,8,0,5,0,0,0,0,\n",
    "    0,0,0,0,2,1,0,0,0,\n",
    "    0,9,0,0,0,0,0,0,3,\n",
    "    0,7,0,0,0,0,6,0,0\n",
    "]\n"
   ]
  },
  {
   "cell_type": "code",
   "execution_count": 24,
   "metadata": {},
   "outputs": [],
   "source": [
    "# 开局信息_3\n",
    "start_list3=[\n",
    "    0,0,0,0,5,8,0,0,0,\n",
    "    7,6,0,0,0,2,3,0,4,\n",
    "    0,0,0,3,4,0,8,2,0,\n",
    "    0,7,0,0,0,0,0,0,1,\n",
    "    0,0,0,0,0,0,6,4,0,\n",
    "    1,3,2,4,6,0,9,0,0,\n",
    "    3,0,0,7,9,0,2,0,5,\n",
    "    0,0,7,0,0,4,1,0,0,\n",
    "    5,9,0,0,0,6,0,0,8,\n",
    "]"
   ]
  },
  {
   "cell_type": "code",
   "execution_count": 25,
   "metadata": {},
   "outputs": [],
   "source": [
    "# 开局信息_4\n",
    "start_list4=[\n",
    "    0,0,0,0,0,0,0,0,0,\n",
    "    0,0,0,0,0,0,0,0,0,\n",
    "    0,0,0,0,0,0,0,0,0,\n",
    "    0,0,0,0,0,0,0,0,0,\n",
    "    0,0,0,0,0,0,0,0,0,\n",
    "    0,0,0,0,0,0,0,0,0,\n",
    "    0,0,0,0,0,0,0,0,0,\n",
    "    0,0,0,0,0,0,0,0,0,\n",
    "    0,0,0,0,0,0,0,0,0,\n",
    "  ]\n"
   ]
  },
  {
   "cell_type": "code",
   "execution_count": 26,
   "metadata": {},
   "outputs": [],
   "source": [
    "# 开局信息_4\n",
    "start_list4=[\n",
    "    0,4,6,9,0,3,0,0,0,\n",
    "    0,0,3,0,5,0,0,6,0,\n",
    "    9,0,0,0,0,2,0,0,3,\n",
    "    0,0,5,0,0,6,0,0,0,\n",
    "    8,0,0,0,0,0,0,1,0,\n",
    "    0,1,0,7,8,0,2,0,0,\n",
    "    0,0,0,0,0,0,0,5,0,\n",
    "    0,8,1,3,0,0,0,0,7,\n",
    "    0,0,0,8,0,0,1,0,4,\n",
    "  ]\n"
   ]
  },
  {
   "cell_type": "code",
   "execution_count": 27,
   "metadata": {},
   "outputs": [],
   "source": [
    "#计算开始时间\n",
    "time_start=time.time()\n",
    "#转为 numpy格式\n",
    "start_np=np.array(start_list4).reshape((9,9))\n",
    "# 信息更新进table\n",
    "table=input_table(start_np)"
   ]
  },
  {
   "cell_type": "code",
   "execution_count": 28,
   "metadata": {},
   "outputs": [],
   "source": [
    "table=rebuilt_table(table)\n",
    "table=rebuilt_table_twin(table)"
   ]
  },
  {
   "cell_type": "code",
   "execution_count": 33,
   "metadata": {},
   "outputs": [
    {
     "name": "stdout",
     "output_type": "stream",
     "text": [
      "[[  1257      4      6      9     17      3    578    278   1258]\n",
      " [   127     27      3     14      5   1478   4789      6   1289]\n",
      " [     9     57     78    146   1467      2   4578    478      3]\n",
      " [  2347   2379      5    124  12349      6  34789  34789     89]\n",
      " [     8  23679   2479    245   2349    459 345679      1    569]\n",
      " [   346      1     49      7      8    459      2    349    569]\n",
      " [ 23467  23679   2479   1246 124679   1479   3689      5   2689]\n",
      " [  2456      8      1      3   2469    459     69     29      7]\n",
      " [ 23567 235679    279      8   2679    579      1    239      4]]\n"
     ]
    }
   ],
   "source": [
    "#展示过程量\n",
    "print(show_table(table))"
   ]
  },
  {
   "cell_type": "code",
   "execution_count": 30,
   "metadata": {},
   "outputs": [],
   "source": [
    "# 进行递归求解\n",
    "answer=[]\n",
    "test_answer(table)"
   ]
  },
  {
   "cell_type": "code",
   "execution_count": 31,
   "metadata": {},
   "outputs": [],
   "source": [
    "time_end=time.time()"
   ]
  },
  {
   "cell_type": "code",
   "execution_count": 35,
   "metadata": {},
   "outputs": [
    {
     "name": "stdout",
     "output_type": "stream",
     "text": [
      "数独结果是：\n",
      "\n",
      "\n",
      "____________________\n",
      "\n",
      "\n",
      "[[1 4 6 9 7 3 5 8 2]\n",
      " [7 2 3 4 5 8 9 6 1]\n",
      " [9 5 8 6 1 2 4 7 3]\n",
      " [3 7 5 1 2 6 8 4 9]\n",
      " [8 9 2 5 3 4 7 1 6]\n",
      " [6 1 4 7 8 9 2 3 5]\n",
      " [4 6 7 2 9 1 3 5 8]\n",
      " [2 8 1 3 4 5 6 9 7]\n",
      " [5 3 9 8 6 7 1 2 4]]\n",
      "\n",
      "\n",
      "计算耗时：0.10 s\n"
     ]
    }
   ],
   "source": [
    "show_answer(answer)\n",
    "print('\\n')\n",
    "print('计算耗时：%.2f s'%(time_end-time_start))"
   ]
  }
 ],
 "metadata": {
  "kernelspec": {
   "display_name": "Python 3",
   "language": "python",
   "name": "python3"
  },
  "language_info": {
   "codemirror_mode": {
    "name": "ipython",
    "version": 3
   },
   "file_extension": ".py",
   "mimetype": "text/x-python",
   "name": "python",
   "nbconvert_exporter": "python",
   "pygments_lexer": "ipython3",
   "version": "3.8.5"
  }
 },
 "nbformat": 4,
 "nbformat_minor": 4
}
